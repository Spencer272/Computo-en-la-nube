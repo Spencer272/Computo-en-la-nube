{
  "nbformat": 4,
  "nbformat_minor": 0,
  "metadata": {
    "colab": {
      "provenance": [],
      "authorship_tag": "ABX9TyPc0j9cB+YxYDt1gCpsqevA",
      "include_colab_link": true
    },
    "kernelspec": {
      "name": "python3",
      "display_name": "Python 3"
    },
    "language_info": {
      "name": "python"
    }
  },
  "cells": [
    {
      "cell_type": "markdown",
      "metadata": {
        "id": "view-in-github",
        "colab_type": "text"
      },
      "source": [
        "<a href=\"https://colab.research.google.com/github/Spencer272/Computo-en-la-nube/blob/main/Comandos_en_python.ipynb\" target=\"_parent\"><img src=\"https://colab.research.google.com/assets/colab-badge.svg\" alt=\"Open In Colab\"/></a>"
      ]
    },
    {
      "cell_type": "markdown",
      "source": [
        "**Introduccion Python**"
      ],
      "metadata": {
        "id": "jm4ObOlq1drJ"
      }
    },
    {
      "cell_type": "code",
      "execution_count": null,
      "metadata": {
        "colab": {
          "base_uri": "https://localhost:8080/"
        },
        "id": "FD7CZtJupCyY",
        "outputId": "0143fea7-58fb-45eb-9953-458395a32c98"
      },
      "outputs": [
        {
          "output_type": "stream",
          "name": "stdout",
          "text": [
            "Roja\n",
            "Fibra de carbono\n",
            "Azul\n",
            "Acero\n",
            "¡Frenando!\n"
          ]
        }
      ],
      "source": [
        "# bike.py\n",
        "# Definamos la clase Bike\n",
        "class Bike:\n",
        "    def __init__(self, color, material_del_marco):\n",
        "        self.color = color\n",
        "        self.material_del_marco = material_del_marco\n",
        "\n",
        "    def frenar(self):\n",
        "        print(\"¡Frenando!\")\n",
        "\n",
        "# Creemos un par de instancias\n",
        "bicicleta_roja = Bike('Roja', 'Fibra de carbono')\n",
        "bicicleta_azul = Bike('Azul', 'Acero')\n",
        "\n",
        "# Inspeccionemos los objetos que tenemos, instancias de la clase Bike.\n",
        "print(bicicleta_roja.color) # imprime: Roja\n",
        "print(bicicleta_roja.material_del_marco) # imprime: Fibra de carbono\n",
        "print(bicicleta_azul.color) # imprime: Azul\n",
        "print(bicicleta_azul.material_del_marco) # imprime: Acero\n",
        "\n",
        "# ¡Vamos a frenar!\n",
        "bicicleta_roja.frenar() # imprime: ¡Frenando!\n"
      ]
    },
    {
      "cell_type": "code",
      "source": [
        "# discount.py\n",
        "from datetime import date, timedelta\n",
        "\n",
        "hoy = date.today()\n",
        "mañana = hoy + timedelta(days=1)  # hoy + 1 día es mañana\n",
        "\n",
        "productos = [\n",
        "    {'sku': '1', 'fecha_de_vencimiento': hoy, 'precio': 100.0},\n",
        "    {'sku': '2', 'fecha_de_vencimiento': mañana, 'precio': 50},\n",
        "    {'sku': '3', 'fecha_de_vencimiento': hoy, 'precio': 20},\n",
        "]\n",
        "\n",
        "for producto in productos:\n",
        "    if producto['fecha_de_vencimiento'] != hoy:\n",
        "        continue\n",
        "    producto['precio'] *= 0.8  # equivalente a aplicar un descuento del 20%\n",
        "    print(\n",
        "        'El precio para el SKU', producto['sku'],\n",
        "        'ahora es', producto['precio'])\n"
      ],
      "metadata": {
        "colab": {
          "base_uri": "https://localhost:8080/"
        },
        "id": "BpmQxAfmpcTV",
        "outputId": "10d92f3b-fd06-4639-a624-149fd909cdbb"
      },
      "execution_count": null,
      "outputs": [
        {
          "output_type": "stream",
          "name": "stdout",
          "text": [
            "El precio para el SKU 1 ahora es 80.0\n",
            "El precio para el SKU 3 ahora es 16.0\n"
          ]
        }
      ]
    },
    {
      "cell_type": "code",
      "source": [
        "clientes = [\n",
        "    dict(id=1, total=200, codigo_de_cupon='F20'),  # F20: fijo, £20\n",
        "    dict(id=2, total=150, codigo_de_cupon='P30'),  # P30: porcentaje, 30%\n",
        "    dict(id=3, total=100, codigo_de_cupon='P50'),  # P50: porcentaje, 50%\n",
        "    dict(id=4, total=110, codigo_de_cupon='F15'),  # F15: fijo, £15\n",
        "]\n",
        "\n",
        "for cliente in clientes:\n",
        "    codigo = cliente['codigo_de_cupon']\n",
        "    if codigo == 'F20':\n",
        "        cliente['descuento'] = 20.0\n",
        "    elif codigo == 'F15':\n",
        "        cliente['descuento'] = 15.0\n",
        "    elif codigo == 'P30':\n",
        "        cliente['descuento'] = cliente['total'] * 0.3\n",
        "    elif codigo == 'P50':\n",
        "        cliente['descuento'] = cliente['total'] * 0.5\n",
        "    else:\n",
        "        cliente['descuento'] = 0.0\n",
        "\n",
        "for cliente in clientes:\n",
        "    print(cliente['id'], cliente['total'], cliente['descuento'])\n"
      ],
      "metadata": {
        "colab": {
          "base_uri": "https://localhost:8080/"
        },
        "id": "8DDUdtbLrwE6",
        "outputId": "31ebdb2b-4c43-4d5a-a0a0-a04593bc49d1"
      },
      "execution_count": null,
      "outputs": [
        {
          "output_type": "stream",
          "name": "stdout",
          "text": [
            "1 200 20.0\n",
            "2 150 45.0\n",
            "3 100 50.0\n",
            "4 110 15.0\n"
          ]
        }
      ]
    },
    {
      "cell_type": "code",
      "source": [
        "\n",
        "# Esta función también podría definirse en otro módulo\n",
        "def multiplicar_matrices(a, b):\n",
        "    return [[sum(i * j for i, j in zip(r, c)) for c in zip(*b)]\n",
        "            for r in a]\n",
        "\n",
        "a = [[1, 2], [3, 4]]\n",
        "b = [[5, 1], [2, 1]]\n",
        "c = multiplicar_matrices(a, b)\n",
        "for fila in c:\n",
        "    print(fila)\n",
        "\n",
        "# Esta función también podría definirse en otro módulo\n",
        "def multiplicar_matrices(a, b):\n",
        "    return [[sum(i * j for i, j in zip(r, c)) for c in zip(*b)]\n",
        "            for r in a]\n",
        "\n",
        "a = [[1, 2], [3, 4]]\n",
        "b = [[5, 1], [2, 1]]\n",
        "c = multiplicar_matrices(a, b)\n",
        "print(c)\n"
      ],
      "metadata": {
        "colab": {
          "base_uri": "https://localhost:8080/"
        },
        "id": "O9Ghf06utJ84",
        "outputId": "c720055a-fe76-4ba5-e716-350eaa9241c4"
      },
      "execution_count": null,
      "outputs": [
        {
          "output_type": "stream",
          "name": "stdout",
          "text": [
            "[9, 3]\n",
            "[23, 7]\n",
            "[[9, 3], [23, 7]]\n"
          ]
        }
      ]
    },
    {
      "cell_type": "code",
      "source": [
        "def minimo(*n):\n",
        "    # print(type(n)) # n es una tupla\n",
        "    if n:  # explicado después del código\n",
        "        minimo_actual = n[0]\n",
        "        for valor in n[1:]:\n",
        "            if valor < minimo_actual:\n",
        "                minimo_actual = valor\n",
        "        print(minimo_actual)\n",
        "\n",
        "minimo(1, 3, -7, 9)  # n = (1, 3, -7, 9) - imprime: -7\n",
        "minimo()  # n = () - no imprime nada\n"
      ],
      "metadata": {
        "colab": {
          "base_uri": "https://localhost:8080/"
        },
        "id": "n0EhLx0auAay",
        "outputId": "62fc8d8c-6db6-41e3-99e7-b35c8bd9026c"
      },
      "execution_count": null,
      "outputs": [
        {
          "output_type": "stream",
          "name": "stdout",
          "text": [
            "-7\n"
          ]
        }
      ]
    },
    {
      "cell_type": "code",
      "source": [],
      "metadata": {
        "id": "PDf7nRmqtVKx",
        "colab": {
          "base_uri": "https://localhost:8080/"
        },
        "outputId": "be8772ab-f563-409d-f754-89f6e5b583b3"
      },
      "execution_count": null,
      "outputs": [
        {
          "output_type": "stream",
          "name": "stdout",
          "text": [
            "(1, 2, 3) 7\n",
            "() 4\n",
            "3 7 99\n",
            "3 42 13\n"
          ]
        }
      ]
    },
    {
      "cell_type": "code",
      "source": [
        "# Ejemplo 1: Función \"adder\" que suma dos números.\n",
        "def adder(a, b):\n",
        "    return a + b\n",
        "\n",
        "# Es equivalente a la expresión lambda:\n",
        "adder_lambda = lambda a, b: a + b\n",
        "\n",
        "# Ejemplo 2: Función \"to_upper\" que convierte una cadena a mayúsculas.\n",
        "def to_upper(s):\n",
        "    return s.upper()\n",
        "\n",
        "# Es equivalente a la expresión lambda:\n",
        "to_upper_lambda = lambda s: s.upper()\n",
        "\n",
        "# Llamamos a las funciones y las expresiones lambda y luego imprimimos los resultados.\n",
        "resultado1 = adder(2, 3)\n",
        "resultado2 = adder_lambda(2, 3)\n",
        "print(f\"Resultado 1: {resultado1}\")\n",
        "print(f\"Resultado 2: {resultado2}\")\n",
        "\n",
        "resultado3 = to_upper(\"hola\")\n",
        "resultado4 = to_upper_lambda(\"hola\")\n",
        "print(f\"Resultado 3: {resultado3}\")\n",
        "print(f\"Resultado 4: {resultado4}\")\n"
      ],
      "metadata": {
        "colab": {
          "base_uri": "https://localhost:8080/"
        },
        "id": "wKZQNyRDysSN",
        "outputId": "ba2625e6-9a48-4727-e1d2-c19ba6cb69f7"
      },
      "execution_count": null,
      "outputs": [
        {
          "output_type": "stream",
          "name": "stdout",
          "text": [
            "Resultado 1: 5\n",
            "Resultado 2: 5\n",
            "Resultado 3: HOLA\n",
            "Resultado 4: HOLA\n"
          ]
        }
      ]
    },
    {
      "cell_type": "code",
      "source": [
        "def multiplication(a, b=1):\n",
        "    \"\"\"Devuelve a multiplicado por b.\"\"\"\n",
        "    return a * b\n",
        "\n",
        "if __name__ == \"__main__\":\n",
        "    # Lista de atributos especiales de la función.\n",
        "    special_attributes = [\n",
        "        \"__doc__\", \"__name__\", \"__qualname__\", \"__module__\",\n",
        "        \"__defaults__\", \"__code__\", \"__globals__\", \"__dict__\",\n",
        "        \"__closure__\", \"__annotations__\", \"__kwdefaults__\",\n",
        "    ]\n",
        "\n",
        "    # Itera a través de la lista de atributos y muestra sus valores.\n",
        "    for attribute in special_attributes:\n",
        "        print(attribute, '->', getattr(multiplication, attribute))\n"
      ],
      "metadata": {
        "colab": {
          "base_uri": "https://localhost:8080/"
        },
        "id": "dXMHBN6ly2Hp",
        "outputId": "f2818303-937a-4102-cfb2-ae16b654a25d"
      },
      "execution_count": null,
      "outputs": [
        {
          "output_type": "stream",
          "name": "stdout",
          "text": [
            "__doc__ -> Devuelve a multiplicado por b.\n",
            "__name__ -> multiplication\n",
            "__qualname__ -> multiplication\n",
            "__module__ -> __main__\n",
            "__defaults__ -> (1,)\n",
            "__code__ -> <code object multiplication at 0x7fbe174d0be0, file \"<ipython-input-26-f6aafe740a89>\", line 1>\n",
            "__globals__ -> {'__name__': '__main__', '__doc__': 'Automatically created module for IPython interactive environment', '__package__': None, '__loader__': None, '__spec__': None, '__builtin__': <module 'builtins' (built-in)>, '__builtins__': <module 'builtins' (built-in)>, '_ih': ['', '# bike.py\\n# Definamos la clase Bike\\nclass Bike:\\n    def __init__(self, color, material_del_marco):\\n        self.color = color\\n        self.material_del_marco = material_del_marco\\n    \\n    def frenar(self):\\n        print(\"¡Frenando!\")\\n\\n# Creemos un par de instancias\\nbicicleta_roja = Bike(\\'Roja\\', \\'Fibra de carbono\\')\\nbicicleta_azul = Bike(\\'Azul\\', \\'Acero\\')\\n\\n# Inspeccionemos los objetos que tenemos, instancias de la clase Bike.\\nprint(bicicleta_roja.color) # imprime: Roja\\nprint(bicicleta_roja.material_del_marco) # imprime: Fibra de carbono\\nprint(bicicleta_azul.color) # imprime: Azul\\nprint(bicicleta_azul.material_del_marco) # imprime: Acero\\n\\n# ¡Vamos a frenar!\\nbicicleta_roja.frenar() # imprime: ¡Frenando!', '# bike.py\\n# Definamos la clase Bike\\nclass Bike:\\n    def __init__(self, color, material_del_marco):\\n        self.color = color\\n        self.material_del_marco = material_del_marco\\n    \\n    def frenar(self):\\n        print(\"¡Frenando!\")\\n\\n# Creemos un par de instancias\\nbicicleta_roja = Bike(\\'Roja\\', \\'Fibra de carbono\\')\\nbicicleta_azul = Bike(\\'Azul\\', \\'Acero\\')\\n\\n# Inspeccionemos los objetos que tenemos, instancias de la clase Bike.\\nprint(bicicleta_roja.color) # imprime: Roja\\nprint(bicicleta_roja.material_del_marco) # imprime: Fibra de carbono\\nprint(bicicleta_azul.color) # imprime: Azul\\nprint(bicicleta_azul.material_del_marco) # imprime: Acero\\n\\n# ¡Vamos a frenar!\\nbicicleta_roja.frenar() # imprime: ¡Frenando!', \"from datetime import date, timedelta\\n\\nhoy = date.today()\\nmañana = hoy + timedelta(days=1)  # hoy + 1 día es mañana\\n\\nproductos = [\\n    {'sku': '1', 'fecha_de_vencimiento': hoy, 'precio': 100.0},\\n    {'sku': '2', 'fecha_de_vencimiento': mañana, 'precio': 50},\\n    {'sku': '3', 'fecha_de_vencimiento': hoy, 'precio': 20},\\n]\\n\\nfor producto in productos:\\n    if producto['fecha_de_vencimiento'] != hoy:\\n        continue\\n    producto['precio'] *= 0.8  # equivalente a aplicar un descuento del 20%\\n    print(\\n        'El precio para el SKU', producto['sku'],\\n        'ahora es', producto['precio'])\", \"# discount.py\\nfrom datetime import date, timedelta\\n\\nhoy = date.today()\\nmañana = hoy + timedelta(days=1)  # hoy + 1 día es mañana\\n\\nproductos = [\\n    {'sku': '1', 'fecha_de_vencimiento': hoy, 'precio': 100.0},\\n    {'sku': '2', 'fecha_de_vencimiento': mañana, 'precio': 50},\\n    {'sku': '3', 'fecha_de_vencimiento': hoy, 'precio': 20},\\n]\\n\\nfor producto in productos:\\n    if producto['fecha_de_vencimiento'] != hoy:\\n        continue\\n    producto['precio'] *= 0.8  # equivalente a aplicar un descuento del 20%\\n    print(\\n        'El precio para el SKU', producto['sku'],\\n        'ahora es', producto['precio'])\", \"clientes = [\\n    dict(id=1, total=200, codigo_de_cupon='F20'),  # F20: fijo, £20\\n    dict(id=2, total=150, codigo_de_cupon='P30'),  # P30: porcentaje, 30%\\n    dict(id=3, total=100, codigo_de_cupon='P50'),  # P50: porcentaje, 50%\\n    dict(id=4, total=110, codigo_de_cupon='F15'),  # F15: fijo, £15\\n]\\n\\nfor cliente in clientes:\\n    codigo = cliente['codigo_de_cupon']\\n    if codigo == 'F20':\\n        cliente['descuento'] = 20.0\\n    elif codigo == 'F15':\\n        cliente['descuento'] = 15.0\\n    elif codigo == 'P30':\\n        cliente['descuento'] = cliente['total'] * 0.3\\n    elif codigo == 'P50':\\n        cliente['descuento'] = cliente['total'] * 0.5\\n    else:\\n        cliente['descuento'] = 0.0\\n\\nfor cliente in clientes:\\n    print(cliente['id'], cliente['total'], cliente['descuento'])\", '# matrix.multiplication.func.py\\n# Esta función también podría definirse en otro módulo\\ndef multiplicar_matrices(a, b):\\n    return [[sum(i * j for i, j in zip(r, c)) for c in zip(*b)]\\n            for r in a]\\n\\na = [[1, 2], [3, 4]]\\nb = [[5, 1], [2, 1]]\\nc = multiplicar_matrices(a, b)', '# matrix.multiplication.func.py\\n# Esta función también podría definirse en otro módulo\\ndef multiplicar_matrices(a, b):\\n    return [[sum(i * j for i, j in zip(r, c)) for c in zip(*b)]\\n            for r in a]\\n\\na = [[1, 2], [3, 4]]\\nb = [[5, 1], [2, 1]]\\nc = multiplicar_matrices(a, b)', '# matrix.multiplication.func.py\\n# Esta función también podría definirse en otro módulo\\ndef multiplicar_matrices(a, b):\\n    return [[sum(i * j for i, j in zip(r, c)) for c in zip(*b)]\\n            for r in a]\\n\\na = [[1, 2], [3, 4]]\\nb = [[5, 1], [2, 1]]\\nc = multiplicar_matrices(a, b)', '# Esta función también podría definirse en otro módulo\\ndef multiplicar_matrices(a, b):\\n    return [[sum(i * j for i, j in zip(r, c)) for c in zip(*b)]\\n            for r in a]\\n\\na = [[1, 2], [3, 4]]\\nb = [[5, 1], [2, 1]]\\nc = multiplicar_matrices(a, b)\\n\\n\\n# Esta función también podría definirse en otro módulo\\ndef multiplicar_matrices(a, b):\\n    return [[sum(i * j for i, j in zip(r, c)) for c in zip(*b)]\\n            for r in a]\\n\\na = [[1, 2], [3, 4]]\\nb = [[5, 1], [2, 1]]\\nc = multiplicar_matrices(a, b)', '# Esta función también podría definirse en otro módulo\\ndef multiplicar_matrices(a, b):\\n    return [[sum(i * j for i, j in zip(r, c)) for c in zip(*b)]\\n            for r in a]\\n\\na = [[1, 2], [3, 4]]\\nb = [[5, 1], [2, 1]]\\nc = multiplicar_matrices(a, b)\\n\\n\\n# Esta función también podría definirse en otro módulo\\ndef multiplicar_matrices(a, b):\\n    return [[sum(i * j for i, j in zip(r, c)) for c in zip(*b)]\\n            for r in a]\\n\\na = [[1, 2], [3, 4]]\\nb = [[5, 1], [2, 1]]\\nc = multiplicar_matrices(a, b)', '# Esta función también podría definirse en otro módulo\\ndef multiplicar_matrices(a, b):\\n    return [[sum(i * j for i, j in zip(r, c)) for c in zip(*b)]\\n            for r in a]\\n\\na = [[1, 2], [3, 4]]\\nb = [[5, 1], [2, 1]]\\nc = multiplicar_matrices(a, b)\\nfor fila in c:\\n    print(fila)\\n\\n# Esta función también podría definirse en otro módulo\\ndef multiplicar_matrices(a, b):\\n    return [[sum(i * j for i, j in zip(r, c)) for c in zip(*b)]\\n            for r in a]\\n\\na = [[1, 2], [3, 4]]\\nb = [[5, 1], [2, 1]]\\nc = multiplicar_matrices(a, b)\\nprint(c)', '# Esta función también podría definirse en otro módulo\\ndef multiplicar_matrices(a, b):\\n    return [[sum(i * j for i, j in zip(r, c)) for c in zip(*b)]\\n            for r in a]\\n\\na = [[1, 2], [3, 4]]\\nb = [[5, 1], [2, 1]]\\nc = multiplicar_matrices(a, b)\\n#for fila in c:\\n    #print(fila)\\n\\n# Esta función también podría definirse en otro módulo\\ndef multiplicar_matrices(a, b):\\n    return [[sum(i * j for i, j in zip(r, c)) for c in zip(*b)]\\n            for r in a]\\n\\na = [[1, 2], [3, 4]]\\nb = [[5, 1], [2, 1]]\\nc = multiplicar_matrices(a, b)\\nprint(c)', '# Esta función también podría definirse en otro módulo\\ndef multiplicar_matrices(a, b):\\n    return [[sum(i * j for i, j in zip(r, c)) for c in zip(*b)]\\n            for r in a]\\n\\na = [[1, 2], [3, 4]]\\nb = [[5, 1], [2, 1]]\\nc = multiplicar_matrices(a, b)\\nfor fila in c:\\n    print(fila)\\n\\n# Esta función también podría definirse en otro módulo\\ndef multiplicar_matrices(a, b):\\n    return [[sum(i * j for i, j in zip(r, c)) for c in zip(*b)]\\n            for r in a]\\n\\na = [[1, 2], [3, 4]]\\nb = [[5, 1], [2, 1]]\\nc = multiplicar_matrices(a, b)\\nprint(c)', 'def minimo(*n):\\n    # print(type(n)) # n es una tupla\\n    if n:  # explicado después del código\\n        minimo_actual = n[0]\\n        for valor in n[1:]:\\n            if valor < minimo_actual:\\n                minimo_actual = valor\\n        print(minimo_actual)\\n\\nminimo(1, 3, -7, 9)  # n = (1, 3, -7, 9) - imprime: -7\\nminimo()  # n = () - no imprime nada', \"def kwo(*a, c):\\n    print(a, c)\\n\\nkwo(1, 2, 3, c=7) # imprime: (1, 2, 3) 7\\nkwo(c=4) # imprime: () 4\\n# kwo(1, 2) # genera un error, sintaxis no válida, con el siguiente mensaje de error\\n# TypeError: kwo() falta 1 argumento de palabra clave requerido: 'c'\\n\\ndef kwo2(a, b=42, *, c):\\n    print(a, b, c)\\n\\nkwo2(3, b=7, c=99) # imprime: 3 7 99\\nkwo2(3, c=13) # imprime: 3 42 13\\n# kwo2(3, 23) # genera un error, sintaxis no válida, con el siguiente mensaje de error\\n# TypeError: kwo2() falta 1 argumento de palabra clave requerido: 'c'\", 'def factorial(n):\\n    # Si n es 0 o 1, el factorial es 1.\\n    if n in (0, 1):\\n        return 1\\n    \\n    # Inicializamos el resultado con el valor de n.\\n    result = n\\n\\n    # Multiplicamos result por todos los enteros desde 2 hasta n-1.\\n    for k in range(2, n):\\n        result *= k\\n\\n    # Devolvemos el resultado final, que es el factorial de n.\\n    return result\\n\\n# Calculamos el factorial de 5 y lo almacenamos en la variable f5.\\nf5 = factorial(5)  # f5 = 120', 'def factorial(n):\\n    # Si n es 0 o 1, el factorial es 1.\\n    if n in (0, 1):\\n        return 1\\n    \\n    # Inicializamos el resultado con el valor de n.\\n    result = n\\n\\n    # Multiplicamos result por todos los enteros desde 2 hasta n-1.\\n    for k in range(2, n):\\n        result *= k\\n\\n    # Devolvemos el resultado final, que es el factorial de n.\\n    return result\\n\\n# Calculamos el factorial de 5 y lo almacenamos en la variable f5.\\nf5 = factorial(5)  # f5 = 120', 'def factorial(n):\\n    # Si n es 0 o 1, el factorial es 1.\\n    if n in (0, 1):\\n        return 1\\n    \\n    # Inicializamos el resultado con el valor de n.\\n    result = n\\n\\n    # Multiplicamos result por todos los enteros desde 2 hasta n-1.\\n    for k in range(2, n):\\n        result *= k\\n\\n    # Devolvemos el resultado final, que es el factorial de n.\\n    return result\\n\\n# Calculamos el factorial de 5 y lo almacenamos en la variable f5.\\nf5 = factorial(5)  # f5 = 120\\nprint(f5)', 'def is_multiple_of_five(n):\\n  return not n % 5\\ndef get_multiples_of_five(n):\\n  return list(filter(is_multiple_of_five, range(n)))', 'def is_multiple_of_five(n):\\n  return not n % 5\\ndef get_multiples_of_five(n):\\n  return list(filter(is_multiple_of_five, range(n)))\\nis_multiple_of_five()', '# Ejemplo 1: Función \"adder\" que suma dos números.\\ndef adder(a, b):\\n    return a + b\\n\\n# Es equivalente a la expresión lambda:\\nadder_lambda = lambda a, b: a + b\\n\\n# Ejemplo 2: Función \"to_upper\" que convierte una cadena a mayúsculas.\\ndef to_upper(s):\\n    return s.upper()\\n\\n# Es equivalente a la expresión lambda:\\nto_upper_lambda = lambda s: s.upper()', '# Ejemplo 1: Función \"adder\" que suma dos números.\\ndef adder(a, b):\\n    return a + b\\n\\n# Es equivalente a la expresión lambda:\\nadder_lambda = lambda a, b: a + b\\n\\n# Ejemplo 2: Función \"to_upper\" que convierte una cadena a mayúsculas.\\ndef to_upper(s):\\n    return s.upper()\\n\\n# Es equivalente a la expresión lambda:\\nto_upper_lambda = lambda s: s.upper()', '# Ejemplo 1: Función \"adder\" que suma dos números.\\ndef adder(a, b):\\n    return a + b\\n\\n# Es equivalente a la expresión lambda:\\nadder_lambda = lambda a, b: a + b\\n\\n# Ejemplo 2: Función \"to_upper\" que convierte una cadena a mayúsculas.\\ndef to_upper(s):\\n    return s.upper()\\n\\n# Es equivalente a la expresión lambda:\\nto_upper_lambda = lambda s: s.upper()\\nprint(to_upper_lambda)', '# Ejemplo 1: Función \"adder\" que suma dos números.\\ndef adder(a, b):\\n    return a + b\\n\\n# Es equivalente a la expresión lambda:\\nadder_lambda = lambda a, b: a + b\\n\\n# Ejemplo 2: Función \"to_upper\" que convierte una cadena a mayúsculas.\\ndef to_upper(s):\\n    return s.upper()\\n\\n# Es equivalente a la expresión lambda:\\nto_upper_lambda = lambda s: s.upper()\\n\\n# Llamamos a las funciones y las expresiones lambda y luego imprimimos los resultados.\\nresultado1 = adder(2, 3)\\nresultado2 = adder_lambda(2, 3)\\nprint(f\"Resultado 1: {resultado1}\")\\nprint(f\"Resultado 2: {resultado2}\")\\n\\nresultado3 = to_upper(\"hola\")\\nresultado4 = to_upper_lambda(\"hola\")\\nprint(f\"Resultado 3: {resultado3}\")\\nprint(f\"Resultado 4: {resultado4}\")', '# Ejemplo 1: Función \"adder\" que suma dos números.\\ndef adder(a, b):\\n    return a + b\\n\\n# Es equivalente a la expresión lambda:\\nadder_lambda = lambda a, b: a + b\\n\\n# Ejemplo 2: Función \"to_upper\" que convierte una cadena a mayúsculas.\\ndef to_upper(s):\\n    return s.upper()\\n\\n# Es equivalente a la expresión lambda:\\nto_upper_lambda = lambda s: s.upper()\\n\\n# Llamamos a las funciones y las expresiones lambda y luego imprimimos los resultados.\\nresultado1 = adder(2, 3)\\nresultado2 = adder_lambda(2, 3)\\nprint(f\"Resultado 1: {resultado1}\")\\nprint(f\"Resultado 2: {resultado2}\")\\n\\nresultado3 = to_upper(\"hola\")\\nresultado4 = to_upper_lambda(\"hola\")\\nprint(f\"Resultado 3: {resultado3}\")\\nprint(f\"Resultado 4: {resultado4}\")', 'def multiplication(a, b=1):\\n    \"\"\"Devuelve a multiplicado por b.\"\"\"\\n    return a * b\\n\\nif __name__ == \"__main__\":\\n    # Lista de atributos especiales de la función.\\n    special_attributes = [\\n        \"__doc__\", \"__name__\", \"__qualname__\", \"__module__\",\\n        \"__defaults__\", \"__code__\", \"__globals__\", \"__dict__\",\\n        \"__closure__\", \"__annotations__\", \"__kwdefaults__\",\\n    ]\\n    \\n    # Itera a través de la lista de atributos y muestra sus valores.\\n    for attribute in special_attributes:\\n        print(attribute, \\'->\\', getattr(multiplication, attribute))'], '_oh': {}, '_dh': ['/content'], 'In': ['', '# bike.py\\n# Definamos la clase Bike\\nclass Bike:\\n    def __init__(self, color, material_del_marco):\\n        self.color = color\\n        self.material_del_marco = material_del_marco\\n    \\n    def frenar(self):\\n        print(\"¡Frenando!\")\\n\\n# Creemos un par de instancias\\nbicicleta_roja = Bike(\\'Roja\\', \\'Fibra de carbono\\')\\nbicicleta_azul = Bike(\\'Azul\\', \\'Acero\\')\\n\\n# Inspeccionemos los objetos que tenemos, instancias de la clase Bike.\\nprint(bicicleta_roja.color) # imprime: Roja\\nprint(bicicleta_roja.material_del_marco) # imprime: Fibra de carbono\\nprint(bicicleta_azul.color) # imprime: Azul\\nprint(bicicleta_azul.material_del_marco) # imprime: Acero\\n\\n# ¡Vamos a frenar!\\nbicicleta_roja.frenar() # imprime: ¡Frenando!', '# bike.py\\n# Definamos la clase Bike\\nclass Bike:\\n    def __init__(self, color, material_del_marco):\\n        self.color = color\\n        self.material_del_marco = material_del_marco\\n    \\n    def frenar(self):\\n        print(\"¡Frenando!\")\\n\\n# Creemos un par de instancias\\nbicicleta_roja = Bike(\\'Roja\\', \\'Fibra de carbono\\')\\nbicicleta_azul = Bike(\\'Azul\\', \\'Acero\\')\\n\\n# Inspeccionemos los objetos que tenemos, instancias de la clase Bike.\\nprint(bicicleta_roja.color) # imprime: Roja\\nprint(bicicleta_roja.material_del_marco) # imprime: Fibra de carbono\\nprint(bicicleta_azul.color) # imprime: Azul\\nprint(bicicleta_azul.material_del_marco) # imprime: Acero\\n\\n# ¡Vamos a frenar!\\nbicicleta_roja.frenar() # imprime: ¡Frenando!', \"from datetime import date, timedelta\\n\\nhoy = date.today()\\nmañana = hoy + timedelta(days=1)  # hoy + 1 día es mañana\\n\\nproductos = [\\n    {'sku': '1', 'fecha_de_vencimiento': hoy, 'precio': 100.0},\\n    {'sku': '2', 'fecha_de_vencimiento': mañana, 'precio': 50},\\n    {'sku': '3', 'fecha_de_vencimiento': hoy, 'precio': 20},\\n]\\n\\nfor producto in productos:\\n    if producto['fecha_de_vencimiento'] != hoy:\\n        continue\\n    producto['precio'] *= 0.8  # equivalente a aplicar un descuento del 20%\\n    print(\\n        'El precio para el SKU', producto['sku'],\\n        'ahora es', producto['precio'])\", \"# discount.py\\nfrom datetime import date, timedelta\\n\\nhoy = date.today()\\nmañana = hoy + timedelta(days=1)  # hoy + 1 día es mañana\\n\\nproductos = [\\n    {'sku': '1', 'fecha_de_vencimiento': hoy, 'precio': 100.0},\\n    {'sku': '2', 'fecha_de_vencimiento': mañana, 'precio': 50},\\n    {'sku': '3', 'fecha_de_vencimiento': hoy, 'precio': 20},\\n]\\n\\nfor producto in productos:\\n    if producto['fecha_de_vencimiento'] != hoy:\\n        continue\\n    producto['precio'] *= 0.8  # equivalente a aplicar un descuento del 20%\\n    print(\\n        'El precio para el SKU', producto['sku'],\\n        'ahora es', producto['precio'])\", \"clientes = [\\n    dict(id=1, total=200, codigo_de_cupon='F20'),  # F20: fijo, £20\\n    dict(id=2, total=150, codigo_de_cupon='P30'),  # P30: porcentaje, 30%\\n    dict(id=3, total=100, codigo_de_cupon='P50'),  # P50: porcentaje, 50%\\n    dict(id=4, total=110, codigo_de_cupon='F15'),  # F15: fijo, £15\\n]\\n\\nfor cliente in clientes:\\n    codigo = cliente['codigo_de_cupon']\\n    if codigo == 'F20':\\n        cliente['descuento'] = 20.0\\n    elif codigo == 'F15':\\n        cliente['descuento'] = 15.0\\n    elif codigo == 'P30':\\n        cliente['descuento'] = cliente['total'] * 0.3\\n    elif codigo == 'P50':\\n        cliente['descuento'] = cliente['total'] * 0.5\\n    else:\\n        cliente['descuento'] = 0.0\\n\\nfor cliente in clientes:\\n    print(cliente['id'], cliente['total'], cliente['descuento'])\", '# matrix.multiplication.func.py\\n# Esta función también podría definirse en otro módulo\\ndef multiplicar_matrices(a, b):\\n    return [[sum(i * j for i, j in zip(r, c)) for c in zip(*b)]\\n            for r in a]\\n\\na = [[1, 2], [3, 4]]\\nb = [[5, 1], [2, 1]]\\nc = multiplicar_matrices(a, b)', '# matrix.multiplication.func.py\\n# Esta función también podría definirse en otro módulo\\ndef multiplicar_matrices(a, b):\\n    return [[sum(i * j for i, j in zip(r, c)) for c in zip(*b)]\\n            for r in a]\\n\\na = [[1, 2], [3, 4]]\\nb = [[5, 1], [2, 1]]\\nc = multiplicar_matrices(a, b)', '# matrix.multiplication.func.py\\n# Esta función también podría definirse en otro módulo\\ndef multiplicar_matrices(a, b):\\n    return [[sum(i * j for i, j in zip(r, c)) for c in zip(*b)]\\n            for r in a]\\n\\na = [[1, 2], [3, 4]]\\nb = [[5, 1], [2, 1]]\\nc = multiplicar_matrices(a, b)', '# Esta función también podría definirse en otro módulo\\ndef multiplicar_matrices(a, b):\\n    return [[sum(i * j for i, j in zip(r, c)) for c in zip(*b)]\\n            for r in a]\\n\\na = [[1, 2], [3, 4]]\\nb = [[5, 1], [2, 1]]\\nc = multiplicar_matrices(a, b)\\n\\n\\n# Esta función también podría definirse en otro módulo\\ndef multiplicar_matrices(a, b):\\n    return [[sum(i * j for i, j in zip(r, c)) for c in zip(*b)]\\n            for r in a]\\n\\na = [[1, 2], [3, 4]]\\nb = [[5, 1], [2, 1]]\\nc = multiplicar_matrices(a, b)', '# Esta función también podría definirse en otro módulo\\ndef multiplicar_matrices(a, b):\\n    return [[sum(i * j for i, j in zip(r, c)) for c in zip(*b)]\\n            for r in a]\\n\\na = [[1, 2], [3, 4]]\\nb = [[5, 1], [2, 1]]\\nc = multiplicar_matrices(a, b)\\n\\n\\n# Esta función también podría definirse en otro módulo\\ndef multiplicar_matrices(a, b):\\n    return [[sum(i * j for i, j in zip(r, c)) for c in zip(*b)]\\n            for r in a]\\n\\na = [[1, 2], [3, 4]]\\nb = [[5, 1], [2, 1]]\\nc = multiplicar_matrices(a, b)', '# Esta función también podría definirse en otro módulo\\ndef multiplicar_matrices(a, b):\\n    return [[sum(i * j for i, j in zip(r, c)) for c in zip(*b)]\\n            for r in a]\\n\\na = [[1, 2], [3, 4]]\\nb = [[5, 1], [2, 1]]\\nc = multiplicar_matrices(a, b)\\nfor fila in c:\\n    print(fila)\\n\\n# Esta función también podría definirse en otro módulo\\ndef multiplicar_matrices(a, b):\\n    return [[sum(i * j for i, j in zip(r, c)) for c in zip(*b)]\\n            for r in a]\\n\\na = [[1, 2], [3, 4]]\\nb = [[5, 1], [2, 1]]\\nc = multiplicar_matrices(a, b)\\nprint(c)', '# Esta función también podría definirse en otro módulo\\ndef multiplicar_matrices(a, b):\\n    return [[sum(i * j for i, j in zip(r, c)) for c in zip(*b)]\\n            for r in a]\\n\\na = [[1, 2], [3, 4]]\\nb = [[5, 1], [2, 1]]\\nc = multiplicar_matrices(a, b)\\n#for fila in c:\\n    #print(fila)\\n\\n# Esta función también podría definirse en otro módulo\\ndef multiplicar_matrices(a, b):\\n    return [[sum(i * j for i, j in zip(r, c)) for c in zip(*b)]\\n            for r in a]\\n\\na = [[1, 2], [3, 4]]\\nb = [[5, 1], [2, 1]]\\nc = multiplicar_matrices(a, b)\\nprint(c)', '# Esta función también podría definirse en otro módulo\\ndef multiplicar_matrices(a, b):\\n    return [[sum(i * j for i, j in zip(r, c)) for c in zip(*b)]\\n            for r in a]\\n\\na = [[1, 2], [3, 4]]\\nb = [[5, 1], [2, 1]]\\nc = multiplicar_matrices(a, b)\\nfor fila in c:\\n    print(fila)\\n\\n# Esta función también podría definirse en otro módulo\\ndef multiplicar_matrices(a, b):\\n    return [[sum(i * j for i, j in zip(r, c)) for c in zip(*b)]\\n            for r in a]\\n\\na = [[1, 2], [3, 4]]\\nb = [[5, 1], [2, 1]]\\nc = multiplicar_matrices(a, b)\\nprint(c)', 'def minimo(*n):\\n    # print(type(n)) # n es una tupla\\n    if n:  # explicado después del código\\n        minimo_actual = n[0]\\n        for valor in n[1:]:\\n            if valor < minimo_actual:\\n                minimo_actual = valor\\n        print(minimo_actual)\\n\\nminimo(1, 3, -7, 9)  # n = (1, 3, -7, 9) - imprime: -7\\nminimo()  # n = () - no imprime nada', \"def kwo(*a, c):\\n    print(a, c)\\n\\nkwo(1, 2, 3, c=7) # imprime: (1, 2, 3) 7\\nkwo(c=4) # imprime: () 4\\n# kwo(1, 2) # genera un error, sintaxis no válida, con el siguiente mensaje de error\\n# TypeError: kwo() falta 1 argumento de palabra clave requerido: 'c'\\n\\ndef kwo2(a, b=42, *, c):\\n    print(a, b, c)\\n\\nkwo2(3, b=7, c=99) # imprime: 3 7 99\\nkwo2(3, c=13) # imprime: 3 42 13\\n# kwo2(3, 23) # genera un error, sintaxis no válida, con el siguiente mensaje de error\\n# TypeError: kwo2() falta 1 argumento de palabra clave requerido: 'c'\", 'def factorial(n):\\n    # Si n es 0 o 1, el factorial es 1.\\n    if n in (0, 1):\\n        return 1\\n    \\n    # Inicializamos el resultado con el valor de n.\\n    result = n\\n\\n    # Multiplicamos result por todos los enteros desde 2 hasta n-1.\\n    for k in range(2, n):\\n        result *= k\\n\\n    # Devolvemos el resultado final, que es el factorial de n.\\n    return result\\n\\n# Calculamos el factorial de 5 y lo almacenamos en la variable f5.\\nf5 = factorial(5)  # f5 = 120', 'def factorial(n):\\n    # Si n es 0 o 1, el factorial es 1.\\n    if n in (0, 1):\\n        return 1\\n    \\n    # Inicializamos el resultado con el valor de n.\\n    result = n\\n\\n    # Multiplicamos result por todos los enteros desde 2 hasta n-1.\\n    for k in range(2, n):\\n        result *= k\\n\\n    # Devolvemos el resultado final, que es el factorial de n.\\n    return result\\n\\n# Calculamos el factorial de 5 y lo almacenamos en la variable f5.\\nf5 = factorial(5)  # f5 = 120', 'def factorial(n):\\n    # Si n es 0 o 1, el factorial es 1.\\n    if n in (0, 1):\\n        return 1\\n    \\n    # Inicializamos el resultado con el valor de n.\\n    result = n\\n\\n    # Multiplicamos result por todos los enteros desde 2 hasta n-1.\\n    for k in range(2, n):\\n        result *= k\\n\\n    # Devolvemos el resultado final, que es el factorial de n.\\n    return result\\n\\n# Calculamos el factorial de 5 y lo almacenamos en la variable f5.\\nf5 = factorial(5)  # f5 = 120\\nprint(f5)', 'def is_multiple_of_five(n):\\n  return not n % 5\\ndef get_multiples_of_five(n):\\n  return list(filter(is_multiple_of_five, range(n)))', 'def is_multiple_of_five(n):\\n  return not n % 5\\ndef get_multiples_of_five(n):\\n  return list(filter(is_multiple_of_five, range(n)))\\nis_multiple_of_five()', '# Ejemplo 1: Función \"adder\" que suma dos números.\\ndef adder(a, b):\\n    return a + b\\n\\n# Es equivalente a la expresión lambda:\\nadder_lambda = lambda a, b: a + b\\n\\n# Ejemplo 2: Función \"to_upper\" que convierte una cadena a mayúsculas.\\ndef to_upper(s):\\n    return s.upper()\\n\\n# Es equivalente a la expresión lambda:\\nto_upper_lambda = lambda s: s.upper()', '# Ejemplo 1: Función \"adder\" que suma dos números.\\ndef adder(a, b):\\n    return a + b\\n\\n# Es equivalente a la expresión lambda:\\nadder_lambda = lambda a, b: a + b\\n\\n# Ejemplo 2: Función \"to_upper\" que convierte una cadena a mayúsculas.\\ndef to_upper(s):\\n    return s.upper()\\n\\n# Es equivalente a la expresión lambda:\\nto_upper_lambda = lambda s: s.upper()', '# Ejemplo 1: Función \"adder\" que suma dos números.\\ndef adder(a, b):\\n    return a + b\\n\\n# Es equivalente a la expresión lambda:\\nadder_lambda = lambda a, b: a + b\\n\\n# Ejemplo 2: Función \"to_upper\" que convierte una cadena a mayúsculas.\\ndef to_upper(s):\\n    return s.upper()\\n\\n# Es equivalente a la expresión lambda:\\nto_upper_lambda = lambda s: s.upper()\\nprint(to_upper_lambda)', '# Ejemplo 1: Función \"adder\" que suma dos números.\\ndef adder(a, b):\\n    return a + b\\n\\n# Es equivalente a la expresión lambda:\\nadder_lambda = lambda a, b: a + b\\n\\n# Ejemplo 2: Función \"to_upper\" que convierte una cadena a mayúsculas.\\ndef to_upper(s):\\n    return s.upper()\\n\\n# Es equivalente a la expresión lambda:\\nto_upper_lambda = lambda s: s.upper()\\n\\n# Llamamos a las funciones y las expresiones lambda y luego imprimimos los resultados.\\nresultado1 = adder(2, 3)\\nresultado2 = adder_lambda(2, 3)\\nprint(f\"Resultado 1: {resultado1}\")\\nprint(f\"Resultado 2: {resultado2}\")\\n\\nresultado3 = to_upper(\"hola\")\\nresultado4 = to_upper_lambda(\"hola\")\\nprint(f\"Resultado 3: {resultado3}\")\\nprint(f\"Resultado 4: {resultado4}\")', '# Ejemplo 1: Función \"adder\" que suma dos números.\\ndef adder(a, b):\\n    return a + b\\n\\n# Es equivalente a la expresión lambda:\\nadder_lambda = lambda a, b: a + b\\n\\n# Ejemplo 2: Función \"to_upper\" que convierte una cadena a mayúsculas.\\ndef to_upper(s):\\n    return s.upper()\\n\\n# Es equivalente a la expresión lambda:\\nto_upper_lambda = lambda s: s.upper()\\n\\n# Llamamos a las funciones y las expresiones lambda y luego imprimimos los resultados.\\nresultado1 = adder(2, 3)\\nresultado2 = adder_lambda(2, 3)\\nprint(f\"Resultado 1: {resultado1}\")\\nprint(f\"Resultado 2: {resultado2}\")\\n\\nresultado3 = to_upper(\"hola\")\\nresultado4 = to_upper_lambda(\"hola\")\\nprint(f\"Resultado 3: {resultado3}\")\\nprint(f\"Resultado 4: {resultado4}\")', 'def multiplication(a, b=1):\\n    \"\"\"Devuelve a multiplicado por b.\"\"\"\\n    return a * b\\n\\nif __name__ == \"__main__\":\\n    # Lista de atributos especiales de la función.\\n    special_attributes = [\\n        \"__doc__\", \"__name__\", \"__qualname__\", \"__module__\",\\n        \"__defaults__\", \"__code__\", \"__globals__\", \"__dict__\",\\n        \"__closure__\", \"__annotations__\", \"__kwdefaults__\",\\n    ]\\n    \\n    # Itera a través de la lista de atributos y muestra sus valores.\\n    for attribute in special_attributes:\\n        print(attribute, \\'->\\', getattr(multiplication, attribute))'], 'Out': {}, 'get_ipython': <bound method InteractiveShell.get_ipython of <google.colab._shell.Shell object at 0x7fbe0f39a200>>, 'exit': <IPython.core.autocall.ZMQExitAutocall object at 0x7fbe0f39a7a0>, 'quit': <IPython.core.autocall.ZMQExitAutocall object at 0x7fbe0f39a7a0>, '_': '', '__': '', '___': '', '_i': '# Ejemplo 1: Función \"adder\" que suma dos números.\\ndef adder(a, b):\\n    return a + b\\n\\n# Es equivalente a la expresión lambda:\\nadder_lambda = lambda a, b: a + b\\n\\n# Ejemplo 2: Función \"to_upper\" que convierte una cadena a mayúsculas.\\ndef to_upper(s):\\n    return s.upper()\\n\\n# Es equivalente a la expresión lambda:\\nto_upper_lambda = lambda s: s.upper()\\n\\n# Llamamos a las funciones y las expresiones lambda y luego imprimimos los resultados.\\nresultado1 = adder(2, 3)\\nresultado2 = adder_lambda(2, 3)\\nprint(f\"Resultado 1: {resultado1}\")\\nprint(f\"Resultado 2: {resultado2}\")\\n\\nresultado3 = to_upper(\"hola\")\\nresultado4 = to_upper_lambda(\"hola\")\\nprint(f\"Resultado 3: {resultado3}\")\\nprint(f\"Resultado 4: {resultado4}\")', '_ii': '# Ejemplo 1: Función \"adder\" que suma dos números.\\ndef adder(a, b):\\n    return a + b\\n\\n# Es equivalente a la expresión lambda:\\nadder_lambda = lambda a, b: a + b\\n\\n# Ejemplo 2: Función \"to_upper\" que convierte una cadena a mayúsculas.\\ndef to_upper(s):\\n    return s.upper()\\n\\n# Es equivalente a la expresión lambda:\\nto_upper_lambda = lambda s: s.upper()\\n\\n# Llamamos a las funciones y las expresiones lambda y luego imprimimos los resultados.\\nresultado1 = adder(2, 3)\\nresultado2 = adder_lambda(2, 3)\\nprint(f\"Resultado 1: {resultado1}\")\\nprint(f\"Resultado 2: {resultado2}\")\\n\\nresultado3 = to_upper(\"hola\")\\nresultado4 = to_upper_lambda(\"hola\")\\nprint(f\"Resultado 3: {resultado3}\")\\nprint(f\"Resultado 4: {resultado4}\")', '_iii': '# Ejemplo 1: Función \"adder\" que suma dos números.\\ndef adder(a, b):\\n    return a + b\\n\\n# Es equivalente a la expresión lambda:\\nadder_lambda = lambda a, b: a + b\\n\\n# Ejemplo 2: Función \"to_upper\" que convierte una cadena a mayúsculas.\\ndef to_upper(s):\\n    return s.upper()\\n\\n# Es equivalente a la expresión lambda:\\nto_upper_lambda = lambda s: s.upper()\\nprint(to_upper_lambda)', '_i1': '# bike.py\\n# Definamos la clase Bike\\nclass Bike:\\n    def __init__(self, color, material_del_marco):\\n        self.color = color\\n        self.material_del_marco = material_del_marco\\n    \\n    def frenar(self):\\n        print(\"¡Frenando!\")\\n\\n# Creemos un par de instancias\\nbicicleta_roja = Bike(\\'Roja\\', \\'Fibra de carbono\\')\\nbicicleta_azul = Bike(\\'Azul\\', \\'Acero\\')\\n\\n# Inspeccionemos los objetos que tenemos, instancias de la clase Bike.\\nprint(bicicleta_roja.color) # imprime: Roja\\nprint(bicicleta_roja.material_del_marco) # imprime: Fibra de carbono\\nprint(bicicleta_azul.color) # imprime: Azul\\nprint(bicicleta_azul.material_del_marco) # imprime: Acero\\n\\n# ¡Vamos a frenar!\\nbicicleta_roja.frenar() # imprime: ¡Frenando!', 'Bike': <class '__main__.Bike'>, 'bicicleta_roja': <__main__.Bike object at 0x7fbdfdeb3a60>, 'bicicleta_azul': <__main__.Bike object at 0x7fbdfdeb3e50>, '_i2': '# bike.py\\n# Definamos la clase Bike\\nclass Bike:\\n    def __init__(self, color, material_del_marco):\\n        self.color = color\\n        self.material_del_marco = material_del_marco\\n    \\n    def frenar(self):\\n        print(\"¡Frenando!\")\\n\\n# Creemos un par de instancias\\nbicicleta_roja = Bike(\\'Roja\\', \\'Fibra de carbono\\')\\nbicicleta_azul = Bike(\\'Azul\\', \\'Acero\\')\\n\\n# Inspeccionemos los objetos que tenemos, instancias de la clase Bike.\\nprint(bicicleta_roja.color) # imprime: Roja\\nprint(bicicleta_roja.material_del_marco) # imprime: Fibra de carbono\\nprint(bicicleta_azul.color) # imprime: Azul\\nprint(bicicleta_azul.material_del_marco) # imprime: Acero\\n\\n# ¡Vamos a frenar!\\nbicicleta_roja.frenar() # imprime: ¡Frenando!', '_i3': \"from datetime import date, timedelta\\n\\nhoy = date.today()\\nmañana = hoy + timedelta(days=1)  # hoy + 1 día es mañana\\n\\nproductos = [\\n    {'sku': '1', 'fecha_de_vencimiento': hoy, 'precio': 100.0},\\n    {'sku': '2', 'fecha_de_vencimiento': mañana, 'precio': 50},\\n    {'sku': '3', 'fecha_de_vencimiento': hoy, 'precio': 20},\\n]\\n\\nfor producto in productos:\\n    if producto['fecha_de_vencimiento'] != hoy:\\n        continue\\n    producto['precio'] *= 0.8  # equivalente a aplicar un descuento del 20%\\n    print(\\n        'El precio para el SKU', producto['sku'],\\n        'ahora es', producto['precio'])\", 'date': <class 'datetime.date'>, 'timedelta': <class 'datetime.timedelta'>, 'hoy': datetime.date(2023, 9, 18), 'mañana': datetime.date(2023, 9, 19), 'productos': [{'sku': '1', 'fecha_de_vencimiento': datetime.date(2023, 9, 18), 'precio': 80.0}, {'sku': '2', 'fecha_de_vencimiento': datetime.date(2023, 9, 19), 'precio': 50}, {'sku': '3', 'fecha_de_vencimiento': datetime.date(2023, 9, 18), 'precio': 16.0}], 'producto': {'sku': '3', 'fecha_de_vencimiento': datetime.date(2023, 9, 18), 'precio': 16.0}, '_i4': \"# discount.py\\nfrom datetime import date, timedelta\\n\\nhoy = date.today()\\nmañana = hoy + timedelta(days=1)  # hoy + 1 día es mañana\\n\\nproductos = [\\n    {'sku': '1', 'fecha_de_vencimiento': hoy, 'precio': 100.0},\\n    {'sku': '2', 'fecha_de_vencimiento': mañana, 'precio': 50},\\n    {'sku': '3', 'fecha_de_vencimiento': hoy, 'precio': 20},\\n]\\n\\nfor producto in productos:\\n    if producto['fecha_de_vencimiento'] != hoy:\\n        continue\\n    producto['precio'] *= 0.8  # equivalente a aplicar un descuento del 20%\\n    print(\\n        'El precio para el SKU', producto['sku'],\\n        'ahora es', producto['precio'])\", '_i5': \"clientes = [\\n    dict(id=1, total=200, codigo_de_cupon='F20'),  # F20: fijo, £20\\n    dict(id=2, total=150, codigo_de_cupon='P30'),  # P30: porcentaje, 30%\\n    dict(id=3, total=100, codigo_de_cupon='P50'),  # P50: porcentaje, 50%\\n    dict(id=4, total=110, codigo_de_cupon='F15'),  # F15: fijo, £15\\n]\\n\\nfor cliente in clientes:\\n    codigo = cliente['codigo_de_cupon']\\n    if codigo == 'F20':\\n        cliente['descuento'] = 20.0\\n    elif codigo == 'F15':\\n        cliente['descuento'] = 15.0\\n    elif codigo == 'P30':\\n        cliente['descuento'] = cliente['total'] * 0.3\\n    elif codigo == 'P50':\\n        cliente['descuento'] = cliente['total'] * 0.5\\n    else:\\n        cliente['descuento'] = 0.0\\n\\nfor cliente in clientes:\\n    print(cliente['id'], cliente['total'], cliente['descuento'])\", 'clientes': [{'id': 1, 'total': 200, 'codigo_de_cupon': 'F20', 'descuento': 20.0}, {'id': 2, 'total': 150, 'codigo_de_cupon': 'P30', 'descuento': 45.0}, {'id': 3, 'total': 100, 'codigo_de_cupon': 'P50', 'descuento': 50.0}, {'id': 4, 'total': 110, 'codigo_de_cupon': 'F15', 'descuento': 15.0}], 'cliente': {'id': 4, 'total': 110, 'codigo_de_cupon': 'F15', 'descuento': 15.0}, 'codigo': 'F15', '_i6': '# matrix.multiplication.func.py\\n# Esta función también podría definirse en otro módulo\\ndef multiplicar_matrices(a, b):\\n    return [[sum(i * j for i, j in zip(r, c)) for c in zip(*b)]\\n            for r in a]\\n\\na = [[1, 2], [3, 4]]\\nb = [[5, 1], [2, 1]]\\nc = multiplicar_matrices(a, b)', 'multiplicar_matrices': <function multiplicar_matrices at 0x7fbde998b400>, 'a': [[1, 2], [3, 4]], 'b': [[5, 1], [2, 1]], 'c': [[9, 3], [23, 7]], '_i7': '# matrix.multiplication.func.py\\n# Esta función también podría definirse en otro módulo\\ndef multiplicar_matrices(a, b):\\n    return [[sum(i * j for i, j in zip(r, c)) for c in zip(*b)]\\n            for r in a]\\n\\na = [[1, 2], [3, 4]]\\nb = [[5, 1], [2, 1]]\\nc = multiplicar_matrices(a, b)', '_i8': '# matrix.multiplication.func.py\\n# Esta función también podría definirse en otro módulo\\ndef multiplicar_matrices(a, b):\\n    return [[sum(i * j for i, j in zip(r, c)) for c in zip(*b)]\\n            for r in a]\\n\\na = [[1, 2], [3, 4]]\\nb = [[5, 1], [2, 1]]\\nc = multiplicar_matrices(a, b)', '_i9': '\\n# Esta función también podría definirse en otro módulo\\ndef multiplicar_matrices(a, b):\\n    return [[sum(i * j for i, j in zip(r, c)) for c in zip(*b)]\\n            for r in a]\\n\\na = [[1, 2], [3, 4]]\\nb = [[5, 1], [2, 1]]\\nc = multiplicar_matrices(a, b)\\n\\n\\n# Esta función también podría definirse en otro módulo\\ndef multiplicar_matrices(a, b):\\n    return [[sum(i * j for i, j in zip(r, c)) for c in zip(*b)]\\n            for r in a]\\n\\na = [[1, 2], [3, 4]]\\nb = [[5, 1], [2, 1]]\\nc = multiplicar_matrices(a, b)', '_i10': '\\n# Esta función también podría definirse en otro módulo\\ndef multiplicar_matrices(a, b):\\n    return [[sum(i * j for i, j in zip(r, c)) for c in zip(*b)]\\n            for r in a]\\n\\na = [[1, 2], [3, 4]]\\nb = [[5, 1], [2, 1]]\\nc = multiplicar_matrices(a, b)\\n\\n\\n# Esta función también podría definirse en otro módulo\\ndef multiplicar_matrices(a, b):\\n    return [[sum(i * j for i, j in zip(r, c)) for c in zip(*b)]\\n            for r in a]\\n\\na = [[1, 2], [3, 4]]\\nb = [[5, 1], [2, 1]]\\nc = multiplicar_matrices(a, b)', '_i11': '\\n# Esta función también podría definirse en otro módulo\\ndef multiplicar_matrices(a, b):\\n    return [[sum(i * j for i, j in zip(r, c)) for c in zip(*b)]\\n            for r in a]\\n\\na = [[1, 2], [3, 4]]\\nb = [[5, 1], [2, 1]]\\nc = multiplicar_matrices(a, b)\\nfor fila in c:\\n    print(fila)\\n\\n# Esta función también podría definirse en otro módulo\\ndef multiplicar_matrices(a, b):\\n    return [[sum(i * j for i, j in zip(r, c)) for c in zip(*b)]\\n            for r in a]\\n\\na = [[1, 2], [3, 4]]\\nb = [[5, 1], [2, 1]]\\nc = multiplicar_matrices(a, b)\\nprint(c)', 'fila': [23, 7], '_i12': '\\n# Esta función también podría definirse en otro módulo\\ndef multiplicar_matrices(a, b):\\n    return [[sum(i * j for i, j in zip(r, c)) for c in zip(*b)]\\n            for r in a]\\n\\na = [[1, 2], [3, 4]]\\nb = [[5, 1], [2, 1]]\\nc = multiplicar_matrices(a, b)\\n#for fila in c:\\n    #print(fila)\\n\\n# Esta función también podría definirse en otro módulo\\ndef multiplicar_matrices(a, b):\\n    return [[sum(i * j for i, j in zip(r, c)) for c in zip(*b)]\\n            for r in a]\\n\\na = [[1, 2], [3, 4]]\\nb = [[5, 1], [2, 1]]\\nc = multiplicar_matrices(a, b)\\nprint(c)', '_i13': '\\n# Esta función también podría definirse en otro módulo\\ndef multiplicar_matrices(a, b):\\n    return [[sum(i * j for i, j in zip(r, c)) for c in zip(*b)]\\n            for r in a]\\n\\na = [[1, 2], [3, 4]]\\nb = [[5, 1], [2, 1]]\\nc = multiplicar_matrices(a, b)\\nfor fila in c:\\n    print(fila)\\n\\n# Esta función también podría definirse en otro módulo\\ndef multiplicar_matrices(a, b):\\n    return [[sum(i * j for i, j in zip(r, c)) for c in zip(*b)]\\n            for r in a]\\n\\na = [[1, 2], [3, 4]]\\nb = [[5, 1], [2, 1]]\\nc = multiplicar_matrices(a, b)\\nprint(c)', '_i14': 'def minimo(*n):\\n    # print(type(n)) # n es una tupla\\n    if n:  # explicado después del código\\n        minimo_actual = n[0]\\n        for valor in n[1:]:\\n            if valor < minimo_actual:\\n                minimo_actual = valor\\n        print(minimo_actual)\\n\\nminimo(1, 3, -7, 9)  # n = (1, 3, -7, 9) - imprime: -7\\nminimo()  # n = () - no imprime nada', 'minimo': <function minimo at 0x7fbde998b1c0>, '_i15': \"def kwo(*a, c):\\n    print(a, c)\\n\\nkwo(1, 2, 3, c=7) # imprime: (1, 2, 3) 7\\nkwo(c=4) # imprime: () 4\\n# kwo(1, 2) # genera un error, sintaxis no válida, con el siguiente mensaje de error\\n# TypeError: kwo() falta 1 argumento de palabra clave requerido: 'c'\\n\\ndef kwo2(a, b=42, *, c):\\n    print(a, b, c)\\n\\nkwo2(3, b=7, c=99) # imprime: 3 7 99\\nkwo2(3, c=13) # imprime: 3 42 13\\n# kwo2(3, 23) # genera un error, sintaxis no válida, con el siguiente mensaje de error\\n# TypeError: kwo2() falta 1 argumento de palabra clave requerido: 'c'\", 'kwo': <function kwo at 0x7fbde998a8c0>, 'kwo2': <function kwo2 at 0x7fbdfdec45e0>, '_i16': 'def factorial(n):\\n    # Si n es 0 o 1, el factorial es 1.\\n    if n in (0, 1):\\n        return 1\\n    \\n    # Inicializamos el resultado con el valor de n.\\n    result = n\\n\\n    # Multiplicamos result por todos los enteros desde 2 hasta n-1.\\n    for k in range(2, n):\\n        result *= k\\n\\n    # Devolvemos el resultado final, que es el factorial de n.\\n    return result\\n\\n# Calculamos el factorial de 5 y lo almacenamos en la variable f5.\\nf5 = factorial(5)  # f5 = 120', 'factorial': <function factorial at 0x7fbde99eaf80>, 'f5': 120, '_i17': 'def factorial(n):\\n    # Si n es 0 o 1, el factorial es 1.\\n    if n in (0, 1):\\n        return 1\\n    \\n    # Inicializamos el resultado con el valor de n.\\n    result = n\\n\\n    # Multiplicamos result por todos los enteros desde 2 hasta n-1.\\n    for k in range(2, n):\\n        result *= k\\n\\n    # Devolvemos el resultado final, que es el factorial de n.\\n    return result\\n\\n# Calculamos el factorial de 5 y lo almacenamos en la variable f5.\\nf5 = factorial(5)  # f5 = 120', '_i18': 'def factorial(n):\\n    # Si n es 0 o 1, el factorial es 1.\\n    if n in (0, 1):\\n        return 1\\n    \\n    # Inicializamos el resultado con el valor de n.\\n    result = n\\n\\n    # Multiplicamos result por todos los enteros desde 2 hasta n-1.\\n    for k in range(2, n):\\n        result *= k\\n\\n    # Devolvemos el resultado final, que es el factorial de n.\\n    return result\\n\\n# Calculamos el factorial de 5 y lo almacenamos en la variable f5.\\nf5 = factorial(5)  # f5 = 120\\nprint(f5)', '_i19': 'def is_multiple_of_five(n):\\n  return not n % 5\\ndef get_multiples_of_five(n):\\n  return list(filter(is_multiple_of_five, range(n)))', 'is_multiple_of_five': <function is_multiple_of_five at 0x7fbde99eb370>, 'get_multiples_of_five': <function get_multiples_of_five at 0x7fbde99eb400>, '_i20': 'def is_multiple_of_five(n):\\n  return not n % 5\\ndef get_multiples_of_five(n):\\n  return list(filter(is_multiple_of_five, range(n)))\\nis_multiple_of_five()', '_i21': '# Ejemplo 1: Función \"adder\" que suma dos números.\\ndef adder(a, b):\\n    return a + b\\n\\n# Es equivalente a la expresión lambda:\\nadder_lambda = lambda a, b: a + b\\n\\n# Ejemplo 2: Función \"to_upper\" que convierte una cadena a mayúsculas.\\ndef to_upper(s):\\n    return s.upper()\\n\\n# Es equivalente a la expresión lambda:\\nto_upper_lambda = lambda s: s.upper()', 'adder': <function adder at 0x7fbde99eb1c0>, 'adder_lambda': <function <lambda> at 0x7fbde99eb0a0>, 'to_upper': <function to_upper at 0x7fbde99eb010>, 'to_upper_lambda': <function <lambda> at 0x7fbde99ea7a0>, '_i22': '# Ejemplo 1: Función \"adder\" que suma dos números.\\ndef adder(a, b):\\n    return a + b\\n\\n# Es equivalente a la expresión lambda:\\nadder_lambda = lambda a, b: a + b\\n\\n# Ejemplo 2: Función \"to_upper\" que convierte una cadena a mayúsculas.\\ndef to_upper(s):\\n    return s.upper()\\n\\n# Es equivalente a la expresión lambda:\\nto_upper_lambda = lambda s: s.upper()', '_i23': '# Ejemplo 1: Función \"adder\" que suma dos números.\\ndef adder(a, b):\\n    return a + b\\n\\n# Es equivalente a la expresión lambda:\\nadder_lambda = lambda a, b: a + b\\n\\n# Ejemplo 2: Función \"to_upper\" que convierte una cadena a mayúsculas.\\ndef to_upper(s):\\n    return s.upper()\\n\\n# Es equivalente a la expresión lambda:\\nto_upper_lambda = lambda s: s.upper()\\nprint(to_upper_lambda)', '_i24': '# Ejemplo 1: Función \"adder\" que suma dos números.\\ndef adder(a, b):\\n    return a + b\\n\\n# Es equivalente a la expresión lambda:\\nadder_lambda = lambda a, b: a + b\\n\\n# Ejemplo 2: Función \"to_upper\" que convierte una cadena a mayúsculas.\\ndef to_upper(s):\\n    return s.upper()\\n\\n# Es equivalente a la expresión lambda:\\nto_upper_lambda = lambda s: s.upper()\\n\\n# Llamamos a las funciones y las expresiones lambda y luego imprimimos los resultados.\\nresultado1 = adder(2, 3)\\nresultado2 = adder_lambda(2, 3)\\nprint(f\"Resultado 1: {resultado1}\")\\nprint(f\"Resultado 2: {resultado2}\")\\n\\nresultado3 = to_upper(\"hola\")\\nresultado4 = to_upper_lambda(\"hola\")\\nprint(f\"Resultado 3: {resultado3}\")\\nprint(f\"Resultado 4: {resultado4}\")', 'resultado1': 5, 'resultado2': 5, 'resultado3': 'HOLA', 'resultado4': 'HOLA', '_i25': '# Ejemplo 1: Función \"adder\" que suma dos números.\\ndef adder(a, b):\\n    return a + b\\n\\n# Es equivalente a la expresión lambda:\\nadder_lambda = lambda a, b: a + b\\n\\n# Ejemplo 2: Función \"to_upper\" que convierte una cadena a mayúsculas.\\ndef to_upper(s):\\n    return s.upper()\\n\\n# Es equivalente a la expresión lambda:\\nto_upper_lambda = lambda s: s.upper()\\n\\n# Llamamos a las funciones y las expresiones lambda y luego imprimimos los resultados.\\nresultado1 = adder(2, 3)\\nresultado2 = adder_lambda(2, 3)\\nprint(f\"Resultado 1: {resultado1}\")\\nprint(f\"Resultado 2: {resultado2}\")\\n\\nresultado3 = to_upper(\"hola\")\\nresultado4 = to_upper_lambda(\"hola\")\\nprint(f\"Resultado 3: {resultado3}\")\\nprint(f\"Resultado 4: {resultado4}\")', '_i26': 'def multiplication(a, b=1):\\n    \"\"\"Devuelve a multiplicado por b.\"\"\"\\n    return a * b\\n\\nif __name__ == \"__main__\":\\n    # Lista de atributos especiales de la función.\\n    special_attributes = [\\n        \"__doc__\", \"__name__\", \"__qualname__\", \"__module__\",\\n        \"__defaults__\", \"__code__\", \"__globals__\", \"__dict__\",\\n        \"__closure__\", \"__annotations__\", \"__kwdefaults__\",\\n    ]\\n    \\n    # Itera a través de la lista de atributos y muestra sus valores.\\n    for attribute in special_attributes:\\n        print(attribute, \\'->\\', getattr(multiplication, attribute))', 'multiplication': <function multiplication at 0x7fbde99eab90>, 'special_attributes': ['__doc__', '__name__', '__qualname__', '__module__', '__defaults__', '__code__', '__globals__', '__dict__', '__closure__', '__annotations__', '__kwdefaults__'], 'attribute': '__globals__'}\n",
            "__dict__ -> {}\n",
            "__closure__ -> None\n",
            "__annotations__ -> {}\n",
            "__kwdefaults__ -> None\n"
          ]
        }
      ]
    },
    {
      "cell_type": "code",
      "source": [
        "from math import sqrt, ceil  # Importamos las funciones sqrt y ceil del módulo math\n",
        "\n",
        "def get_primes(n):\n",
        "    \"\"\"Calcula una lista de números primos hasta n (incluido).\"\"\"\n",
        "\n",
        "    primelist = []  # Inicializamos una lista vacía para almacenar los números primos\n",
        "\n",
        "    for candidate in range(2, n + 1):\n",
        "        is_prime = True\n",
        "        root = ceil(sqrt(candidate))  # Límite de división\n",
        "\n",
        "        for prime in primelist:  # Comprobamos solo con los números primos encontrados hasta ahora\n",
        "            if prime > root:  # No es necesario comprobar más allá de la raíz cuadrada\n",
        "                break\n",
        "            if candidate % prime == 0:\n",
        "                is_prime = False\n",
        "                break\n",
        "\n",
        "        if is_prime:\n",
        "            primelist.append(candidate)  # Si es primo, lo añadimos a la lista de primos\n",
        "\n",
        "    return primelist  # Devolvemos la lista de números primos\n",
        "\n",
        "\n",
        "primos_hasta_10 = get_primes(10)\n",
        "print(primos_hasta_10)  # Resultado: [2, 3, 5, 7]\n",
        "\n"
      ],
      "metadata": {
        "colab": {
          "base_uri": "https://localhost:8080/"
        },
        "id": "fIx7iBKdzTOA",
        "outputId": "c631536d-fbc2-46d2-f0e8-716e059b6fa7"
      },
      "execution_count": null,
      "outputs": [
        {
          "output_type": "stream",
          "name": "stdout",
          "text": [
            "[2, 3, 5, 7]\n"
          ]
        }
      ]
    },
    {
      "cell_type": "markdown",
      "source": [
        "**IMportacion de datos a python**"
      ],
      "metadata": {
        "id": "I2JOfAyU1Cui"
      }
    },
    {
      "cell_type": "code",
      "source": [
        "import json\n",
        "from datetime import datetime\n",
        "\n",
        "# Define la clase DatetimeEncoder que personaliza la serialización JSON.\n",
        "class DatetimeEncoder(json.JSONEncoder):\n",
        "    def default(self, obj):\n",
        "        if isinstance(obj, datetime):\n",
        "            try:\n",
        "                off = obj.utcoffset().seconds\n",
        "            except AttributeError:\n",
        "                off = None\n",
        "            return {\n",
        "                '_meta': '_datetime',\n",
        "                'data': obj.timetuple()[:6] + (obj.microsecond,),\n",
        "                'utcoffset': off,\n",
        "            }\n",
        "        return super().default(obj)\n",
        "\n",
        "# Crear objetos datetime\n",
        "now = datetime.now()\n",
        "now_tz = datetime.now().astimezone()\n",
        "\n",
        "# Crear un diccionario con varios tipos de datos, incluyendo objetos datetime.\n",
        "data = {\n",
        "    'un_entero': 42,\n",
        "    'un_float': 3.14159265,\n",
        "    'un_datetime': now,\n",
        "    'un_datetime_con_zona_horaria': now_tz,\n",
        "}\n",
        "\n",
        "# Serializar el diccionario a JSON utilizando la clase DatetimeEncoder personalizada.\n",
        "json_data = json.dumps(data, cls=DatetimeEncoder)\n",
        "\n",
        "# Imprimir el JSON resultante.\n",
        "print(json_data)\n"
      ],
      "metadata": {
        "colab": {
          "base_uri": "https://localhost:8080/"
        },
        "id": "RlrSz2tv1OZU",
        "outputId": "0b3e2919-fde9-4c44-98dc-e0ef08a8c33d"
      },
      "execution_count": null,
      "outputs": [
        {
          "output_type": "stream",
          "name": "stdout",
          "text": [
            "{\"un_entero\": 42, \"un_float\": 3.14159265, \"un_datetime\": {\"_meta\": \"_datetime\", \"data\": [2023, 9, 18, 1, 8, 32, 633673], \"utcoffset\": null}, \"un_datetime_con_zona_horaria\": {\"_meta\": \"_datetime\", \"data\": [2023, 9, 18, 1, 8, 32, 633721], \"utcoffset\": 0}}\n"
          ]
        }
      ]
    },
    {
      "cell_type": "code",
      "source": [
        "import json\n",
        "from datetime import datetime, timezone, timedelta\n",
        "\n",
        "# Define la función object_hook para personalizar la deserialización JSON.\n",
        "def object_hook(obj):\n",
        "    try:\n",
        "        if obj['_meta'] == '_datetime':\n",
        "            if obj['utcoffset'] is None:\n",
        "                tz = None\n",
        "            else:\n",
        "                tz = timezone(timedelta(seconds=obj['utcoffset']))\n",
        "            return datetime(*obj['data'], tzinfo=tz)\n",
        "    except KeyError:\n",
        "        return obj\n",
        "\n",
        "# Crear un diccionario con un objeto datetime para serializar.\n",
        "data = {\n",
        "    'un_datetime': datetime(2023, 9, 20, 10, 30, tzinfo=timezone.utc)\n",
        "}\n",
        "\n",
        "# Serializar el diccionario a JSON utilizando la clase DatetimeEncoder personalizada.\n",
        "json_data = json.dumps(data, cls=DatetimeEncoder)\n",
        "\n",
        "# Imprimir la cadena JSON resultante.\n",
        "print(\"JSON serializado:\")\n",
        "print(json_data)\n",
        "\n",
        "# Deserializar la cadena JSON utilizando el object_hook personalizado.\n",
        "data_out = json.loads(json_data, object_hook=object_hook)\n",
        "\n",
        "# Imprimir el objeto deserializado.\n",
        "print(\"\\nObjeto deserializado:\")\n",
        "print(data_out)\n"
      ],
      "metadata": {
        "colab": {
          "base_uri": "https://localhost:8080/"
        },
        "id": "spaOjU4v1oNy",
        "outputId": "2db8a1b8-6880-4b91-af21-68e8fa18d413"
      },
      "execution_count": null,
      "outputs": [
        {
          "output_type": "stream",
          "name": "stdout",
          "text": [
            "JSON serializado:\n",
            "{\"un_datetime\": {\"_meta\": \"_datetime\", \"data\": [2023, 9, 20, 10, 30, 0, 0], \"utcoffset\": 0}}\n",
            "\n",
            "Objeto deserializado:\n",
            "{'un_datetime': datetime.datetime(2023, 9, 20, 10, 30, tzinfo=datetime.timezone.utc)}\n"
          ]
        }
      ]
    },
    {
      "cell_type": "code",
      "source": [
        "import io\n",
        "\n",
        "# Creamos un objeto StringIO vacío.\n",
        "stream = io.StringIO()\n",
        "\n",
        "# Escribimos una línea de texto en el objeto StringIO.\n",
        "stream.write('Aprendiendo programación en Python.\\n')\n",
        "\n",
        "# Agregamos otra línea de texto al objeto StringIO utilizando la función \"print\".\n",
        "print('¡Conviértete en un ninja de Python!', file=stream)\n",
        "\n",
        "# Obtenemos el contenido del objeto StringIO.\n",
        "contents = stream.getvalue()\n",
        "\n",
        "# Imprimimos el contenido.\n",
        "print(contents)\n",
        "\n",
        "# Cerramos el objeto StringIO.\n",
        "stream.close()\n"
      ],
      "metadata": {
        "colab": {
          "base_uri": "https://localhost:8080/"
        },
        "id": "oqHua3lz6FUK",
        "outputId": "76c072e0-dabb-4599-da22-f2c69d99214f"
      },
      "execution_count": null,
      "outputs": [
        {
          "output_type": "stream",
          "name": "stdout",
          "text": [
            "Aprendiendo programación en Python.\n",
            "¡Conviértete en un ninja de Python!\n",
            "\n"
          ]
        }
      ]
    },
    {
      "cell_type": "code",
      "source": [
        "import requests\n",
        "\n",
        "# Definimos un diccionario con títulos y URL a las que haremos solicitudes.\n",
        "urls = {\n",
        "    \"get\": \"https://httpbin.org/get?t=learn+python+programming\",\n",
        "    \"headers\": \"https://httpbin.org/headers\",\n",
        "    \"ip\": \"https://httpbin.org/ip\",\n",
        "    \"user-agent\": \"https://httpbin.org/user-agent\",\n",
        "    \"UUID\": \"https://httpbin.org/uuid\",\n",
        "    \"JSON\": \"https://httpbin.org/json\",\n",
        "}\n",
        "\n",
        "# Función para obtener y mostrar el contenido de la respuesta JSON.\n",
        "def get_content(title, url):\n",
        "    resp = requests.get(url)\n",
        "    print(f\"Respuesta para {title}\")\n",
        "    print(resp.json())\n",
        "\n",
        "# Iteramos a través de las URL y llamamos a la función para obtener el contenido.\n",
        "for title, url in urls.items():\n",
        "    get_content(title, url)\n",
        "    print(\"-\" * 40)\n"
      ],
      "metadata": {
        "colab": {
          "base_uri": "https://localhost:8080/"
        },
        "id": "V5xeGf5X6ZI8",
        "outputId": "fb86db48-da3f-4fae-f2d8-797f19c9b5b6"
      },
      "execution_count": null,
      "outputs": [
        {
          "output_type": "stream",
          "name": "stdout",
          "text": [
            "Respuesta para get\n",
            "{'args': {'t': 'learn python programming'}, 'headers': {'Accept': '*/*', 'Accept-Encoding': 'gzip, deflate', 'Host': 'httpbin.org', 'User-Agent': 'python-requests/2.31.0', 'X-Amzn-Trace-Id': 'Root=1-6507a879-4d718cfc2ff4956c586ff79f'}, 'origin': '34.125.243.102', 'url': 'https://httpbin.org/get?t=learn+python+programming'}\n",
            "----------------------------------------\n",
            "Respuesta para headers\n",
            "{'headers': {'Accept': '*/*', 'Accept-Encoding': 'gzip, deflate', 'Host': 'httpbin.org', 'User-Agent': 'python-requests/2.31.0', 'X-Amzn-Trace-Id': 'Root=1-6507a879-2aec988664dc043b0b6f8248'}}\n",
            "----------------------------------------\n",
            "Respuesta para ip\n",
            "{'origin': '34.125.243.102'}\n",
            "----------------------------------------\n",
            "Respuesta para user-agent\n",
            "{'user-agent': 'python-requests/2.31.0'}\n",
            "----------------------------------------\n",
            "Respuesta para UUID\n",
            "{'uuid': '082d796e-6b1f-4bbd-bc00-5bcd2b1fa105'}\n",
            "----------------------------------------\n",
            "Respuesta para JSON\n",
            "{'slideshow': {'author': 'Yours Truly', 'date': 'date of publication', 'slides': [{'title': 'Wake up to WonderWidgets!', 'type': 'all'}, {'items': ['Why <em>WonderWidgets</em> are great', 'Who <em>buys</em> WonderWidgets'], 'title': 'Overview', 'type': 'all'}], 'title': 'Sample Slide Show'}}\n",
            "----------------------------------------\n"
          ]
        }
      ]
    },
    {
      "cell_type": "code",
      "source": [
        "import pickle\n",
        "from dataclasses import dataclass\n",
        "\n",
        "# Definimos la clase de datos Person usando el decorador @dataclass.\n",
        "@dataclass\n",
        "class Person:\n",
        "    first_name: str\n",
        "    last_name: str\n",
        "    id: int\n",
        "\n",
        "    # Método para saludar.\n",
        "    def greet(self):\n",
        "        print(f'Hola, soy {self.first_name} {self.last_name} y mi ID es {self.id}')\n",
        "\n",
        "# Creamos una lista de objetos Person.\n",
        "people = [Person('Obi-Wan', 'Kenobi', 123),\n",
        "          Person('Anakin', 'Skywalker', 456)]\n",
        "\n",
        "# Guardamos los datos en formato binario en un archivo 'data.pickle'.\n",
        "with open('data.pickle', 'wb') as stream:\n",
        "    pickle.dump(people, stream)\n",
        "\n",
        "# Cargamos los datos desde el archivo 'data.pickle'.\n",
        "with open('data.pickle', 'rb') as stream:\n",
        "    peeps = pickle.load(stream)\n",
        "\n",
        "# Iteramos a través de las personas y las saludamos.\n",
        "for person in peeps:\n",
        "    person.greet()\n"
      ],
      "metadata": {
        "colab": {
          "base_uri": "https://localhost:8080/"
        },
        "id": "Tp67bB8w6qgE",
        "outputId": "0e860688-6b55-47c1-d6c4-8fad851ed50e"
      },
      "execution_count": null,
      "outputs": [
        {
          "output_type": "stream",
          "name": "stdout",
          "text": [
            "Hola, soy Obi-Wan Kenobi y mi ID es 123\n",
            "Hola, soy Anakin Skywalker y mi ID es 456\n"
          ]
        }
      ]
    },
    {
      "cell_type": "code",
      "source": [
        "import shelve\n",
        "\n",
        "# Definimos la clase Person.\n",
        "class Person:\n",
        "    def __init__(self, name, id):\n",
        "        self.name = name\n",
        "        self.id = id\n",
        "\n",
        "# Abrimos una base de datos shelve llamada 'shelf1.shelve'.\n",
        "with shelve.open('shelf1.shelve') as db:\n",
        "    # Agregamos objetos Person, una lista y otros datos a la base de datos.\n",
        "    db['obi1'] = Person('Obi-Wan', 123)\n",
        "    db['ani'] = Person('Anakin', 456)\n",
        "    db['a_list'] = [2, 3, 5]\n",
        "    db['delete_me'] = 'Tendremos que eliminar esto...'\n",
        "\n",
        "    # Mostramos las claves (keys) de la base de datos.\n",
        "    print(list(db.keys()))  # ['ani', 'delete_me', 'a_list', 'obi1']\n",
        "\n",
        "    # Eliminamos la entrada 'delete_me' de la base de datos.\n",
        "    del db['delete_me']\n",
        "\n",
        "    # Mostramos las claves después de eliminar 'delete_me'.\n",
        "    print(list(db.keys()))  # ['ani', 'a_list', 'obi1']\n",
        "\n",
        "    # Comprobamos si 'delete_me' está en la base de datos (debe ser False).\n",
        "    print('delete_me' in db)  # False\n",
        "\n",
        "    # Comprobamos si 'ani' está en la base de datos (debe ser True).\n",
        "    print('ani' in db)  # True\n",
        "\n",
        "    # Obtenemos la lista 'a_list' de la base de datos, la modificamos y la actualizamos.\n",
        "    a_list = db['a_list']\n",
        "    a_list.append(7)\n",
        "    db['a_list'] = a_list\n",
        "\n",
        "    # Mostramos la lista 'a_list' después de la actualización.\n",
        "    print(db['a_list'])  # [2, 3, 5, 7]\n"
      ],
      "metadata": {
        "colab": {
          "base_uri": "https://localhost:8080/"
        },
        "id": "FrPnieN87DiT",
        "outputId": "7f755d67-11bb-4424-e2a1-f3282636b617"
      },
      "execution_count": null,
      "outputs": [
        {
          "output_type": "stream",
          "name": "stdout",
          "text": [
            "['a_list', 'ani', 'delete_me', 'obi1']\n",
            "['a_list', 'ani', 'obi1']\n",
            "False\n",
            "True\n",
            "[2, 3, 5, 7]\n"
          ]
        }
      ]
    },
    {
      "cell_type": "code",
      "source": [
        "from sqlalchemy.ext.declarative import declarative_base\n",
        "from sqlalchemy import Column, Integer, String, ForeignKey, create_engine\n",
        "from sqlalchemy.orm import relationship\n",
        "\n",
        "# Creamos una instancia de la base declarativa.\n",
        "Base = declarative_base()\n",
        "\n",
        "# Creamos una conexión a la base de datos SQLite en memoria.\n",
        "engine = create_engine('sqlite:///:memory:')\n",
        "\n",
        "# Definimos la clase del modelo 'Person'.\n",
        "class Person(Base):\n",
        "    __tablename__ = 'person'  # Nombre de la tabla en la base de datos\n",
        "    id = Column(Integer, primary_key=True)\n",
        "    name = Column(String)\n",
        "    age = Column(Integer)\n",
        "\n",
        "    # Relación uno a muchos con la clase 'Address'\n",
        "    addresses = relationship(\n",
        "        'Address',\n",
        "        back_populates='person',\n",
        "        order_by='Address.email',\n",
        "        cascade='all, delete-orphan'\n",
        "    )\n",
        "\n",
        "    def __repr__(self):\n",
        "        return f'{self.name}(id={self.id})'\n",
        "\n",
        "# Definimos la clase del modelo 'Address'.\n",
        "class Address(Base):\n",
        "    __tablename__ = 'address'  # Nombre de la tabla en la base de datos\n",
        "    id = Column(Integer, primary_key=True)\n",
        "    email = Column(String)\n",
        "    person_id = Column(ForeignKey('person.id'))\n",
        "\n",
        "    # Relación inversa con la clase 'Person'\n",
        "    person = relationship('Person', back_populates='addresses')\n",
        "\n",
        "    def __str__(self):\n",
        "        return self.email\n",
        "\n",
        "    __repr__ = __str__\n",
        "\n",
        "# Creamos todas las tablas en la base de datos utilizando los modelos definidos.\n",
        "Base.metadata.create_all(engine)\n"
      ],
      "metadata": {
        "colab": {
          "base_uri": "https://localhost:8080/"
        },
        "id": "i8DiowDj7eHy",
        "outputId": "e25d7a52-47a3-417b-e8b9-d36d42c20761"
      },
      "execution_count": null,
      "outputs": [
        {
          "output_type": "stream",
          "name": "stderr",
          "text": [
            "<ipython-input-39-3a5fa0dbdc6c>:6: MovedIn20Warning: The ``declarative_base()`` function is now available as sqlalchemy.orm.declarative_base(). (deprecated since: 2.0) (Background on SQLAlchemy 2.0 at: https://sqlalche.me/e/b8d9)\n",
            "  Base = declarative_base()\n"
          ]
        }
      ]
    },
    {
      "cell_type": "code",
      "source": [],
      "metadata": {
        "id": "j4pvtmlm_DJx"
      },
      "execution_count": null,
      "outputs": []
    }
  ]
}